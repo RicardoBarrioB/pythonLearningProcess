{
 "cells": [
  {
   "cell_type": "code",
   "execution_count": 1,
   "id": "9fcdc74d-e837-4104-ab3f-ec0dd218c4d0",
   "metadata": {},
   "outputs": [
    {
     "name": "stdout",
     "output_type": "stream",
     "text": [
      "MultiIndex([('2017-01-01', 'python'),\n",
      "            ('2017-01-01',      'r'),\n",
      "            ('2017-01-02', 'python'),\n",
      "            ('2017-01-02',      'r'),\n",
      "            ('2017-01-03', 'python'),\n",
      "            ('2017-01-03',      'r')],\n",
      "           names=['date', 'language'])\n",
      "------1------\n",
      "<class 'pandas.core.frame.DataFrame'>\n",
      "          ex_complete\n",
      "language             \n",
      "python              5\n",
      "r                   8\n",
      "-------------\n",
      "------2------\n",
      "<class 'pandas.core.series.Series'>\n",
      "qqqq ex_complete    8\n",
      "Name: (2017-01-02, r), dtype: int64 wwww\n",
      "-------------\n"
     ]
    }
   ],
   "source": [
    "import pandas as pd\n",
    "import io\n",
    "\"\"\"\n",
    "Ref:\n",
    "    https://www.datacamp.com/community/tutorials/pandas-multi-index#comments\n",
    "\"\"\"\n",
    "\n",
    "str_data = r\"\"\"date,language,ex_complete\n",
    "2017-01-01,python,6\n",
    "2017-01-02,python,5\n",
    "2017-01-03,python,10\n",
    "2017-01-01,r,8\n",
    "2017-01-02,r,8\n",
    "2017-01-03,r,8\n",
    "\"\"\"\n",
    "df = pd.read_csv(io.StringIO(str_data))\n",
    "df.set_index(['date', 'language'], inplace=True)\n",
    "df.sort_index(inplace=True)\n",
    "\n",
    "print(df.index)\n",
    "\n",
    "# slice\n",
    "s = df.loc['2017-01-02']\n",
    "print(\"------1------\")\n",
    "print(type(s))\n",
    "print(s)\n",
    "print(\"-------------\")\n",
    "s = df.loc[('2017-01-02', 'r')]\n",
    "print(\"------2------\")\n",
    "print(type(s))\n",
    "print(\"qqqq\", s,\"wwww\")\n",
    "print(\"-------------\")\n"
   ]
  },
  {
   "cell_type": "code",
   "execution_count": null,
   "id": "d9e71c29-807c-4e01-aa55-2e16f1d8763d",
   "metadata": {},
   "outputs": [],
   "source": []
  }
 ],
 "metadata": {
  "kernelspec": {
   "display_name": "Python 3 (ipykernel)",
   "language": "python",
   "name": "python3"
  },
  "language_info": {
   "codemirror_mode": {
    "name": "ipython",
    "version": 3
   },
   "file_extension": ".py",
   "mimetype": "text/x-python",
   "name": "python",
   "nbconvert_exporter": "python",
   "pygments_lexer": "ipython3",
   "version": "3.12.2"
  }
 },
 "nbformat": 4,
 "nbformat_minor": 5
}
