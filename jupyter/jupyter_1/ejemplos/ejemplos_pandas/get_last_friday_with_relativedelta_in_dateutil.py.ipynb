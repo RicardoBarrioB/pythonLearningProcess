{
 "cells": [
  {
   "cell_type": "code",
   "execution_count": 1,
   "id": "4af08431-ede4-40a9-9bd6-ea7712de0695",
   "metadata": {},
   "outputs": [
    {
     "name": "stdout",
     "output_type": "stream",
     "text": [
      "        date weather last_friday\n",
      "0 2018-03-01  cloudy  2018-02-23\n",
      "1 2018-03-02   sunny  2018-03-02\n",
      "2 2018-03-03     NaN  2018-03-02\n",
      "3 2018-03-04    rain  2018-03-02\n"
     ]
    }
   ],
   "source": [
    "import pandas as pd\n",
    "from dateutil.relativedelta import relativedelta, FR\n",
    "\n",
    "list_of_dicts = [\n",
    "    {\n",
    "        'date': '2018-03-01',\n",
    "        'weather': 'cloudy'\n",
    "    },\n",
    "    {\n",
    "        'date': '2018-03-02',\n",
    "        'weather': 'sunny'\n",
    "    },\n",
    "    {\n",
    "        'date': '2018-03-03'\n",
    "    },\n",
    "    {\n",
    "        'date': '2018-03-04',\n",
    "        'weather': 'rain'\n",
    "    }\n",
    "]\n",
    "df = pd.DataFrame(list_of_dicts)\n",
    "\n",
    "df['date'] = pd.to_datetime(df['date'])\n",
    "df['last_friday'] = df['date'].apply(lambda x: x + relativedelta(weekday=FR(-1)))\n",
    "print(df)"
   ]
  },
  {
   "cell_type": "code",
   "execution_count": null,
   "id": "62074e2b-296a-43bd-87e3-9c769f01369b",
   "metadata": {},
   "outputs": [],
   "source": []
  },
  {
   "cell_type": "code",
   "execution_count": null,
   "id": "d6b28b32-303d-492b-b2ba-a6a59f03600a",
   "metadata": {},
   "outputs": [],
   "source": []
  },
  {
   "cell_type": "code",
   "execution_count": null,
   "id": "6c626271-3b98-4880-bb65-e14019e499dc",
   "metadata": {},
   "outputs": [],
   "source": []
  }
 ],
 "metadata": {
  "kernelspec": {
   "display_name": "Python 3 (ipykernel)",
   "language": "python",
   "name": "python3"
  },
  "language_info": {
   "codemirror_mode": {
    "name": "ipython",
    "version": 3
   },
   "file_extension": ".py",
   "mimetype": "text/x-python",
   "name": "python",
   "nbconvert_exporter": "python",
   "pygments_lexer": "ipython3",
   "version": "3.12.2"
  }
 },
 "nbformat": 4,
 "nbformat_minor": 5
}
