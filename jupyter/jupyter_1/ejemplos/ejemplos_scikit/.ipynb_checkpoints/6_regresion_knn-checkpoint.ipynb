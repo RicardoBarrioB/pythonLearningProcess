{
 "cells": [
  {
   "cell_type": "markdown",
   "id": "4bd91783-ba20-407e-b51c-09ae87e64c0d",
   "metadata": {},
   "source": [
    "https://scikit-learn.org/stable/auto_examples/neighbors/plot_regression.html"
   ]
  },
  {
   "cell_type": "code",
   "execution_count": 1,
   "id": "a7ed8ea0-89bb-4595-abf3-04b9d6aaee53",
   "metadata": {},
   "outputs": [],
   "source": [
    "import matplotlib.pyplot as plt\n",
    "import numpy as np\n",
    "\n",
    "from sklearn import neighbors\n",
    "from sklearn.metrics import mean_squared_error"
   ]
  },
  {
   "cell_type": "code",
   "execution_count": 2,
   "id": "768d4127-58db-4200-baa8-f31572ad5661",
   "metadata": {},
   "outputs": [
    {
     "ename": "ValueError",
     "evalue": "operands could not be broadcast together with shapes (14,) (8,) (14,) ",
     "output_type": "error",
     "traceback": [
      "\u001b[1;31m---------------------------------------------------------------------------\u001b[0m",
      "\u001b[1;31mValueError\u001b[0m                                Traceback (most recent call last)",
      "Cell \u001b[1;32mIn[2], line 6\u001b[0m\n\u001b[0;32m      3\u001b[0m T \u001b[38;5;241m=\u001b[39m np\u001b[38;5;241m.\u001b[39mlinspace(\u001b[38;5;241m0\u001b[39m, \u001b[38;5;241m5\u001b[39m, \u001b[38;5;241m500\u001b[39m)[:, np\u001b[38;5;241m.\u001b[39mnewaxis]\n\u001b[0;32m      4\u001b[0m y \u001b[38;5;241m=\u001b[39m np\u001b[38;5;241m.\u001b[39msin(X)\u001b[38;5;241m.\u001b[39mravel()\n\u001b[1;32m----> 6\u001b[0m \u001b[43my\u001b[49m\u001b[43m[\u001b[49m\u001b[43m:\u001b[49m\u001b[43m:\u001b[49m\u001b[38;5;241;43m3\u001b[39;49m\u001b[43m]\u001b[49m\u001b[43m \u001b[49m\u001b[38;5;241;43m+\u001b[39;49m\u001b[38;5;241;43m=\u001b[39;49m\u001b[43m \u001b[49m\u001b[38;5;241;43m1\u001b[39;49m\u001b[43m \u001b[49m\u001b[38;5;241;43m*\u001b[39;49m\u001b[43m \u001b[49m\u001b[43m(\u001b[49m\u001b[38;5;241;43m0.5\u001b[39;49m\u001b[43m \u001b[49m\u001b[38;5;241;43m-\u001b[39;49m\u001b[43m \u001b[49m\u001b[43mnp\u001b[49m\u001b[38;5;241;43m.\u001b[39;49m\u001b[43mrandom\u001b[49m\u001b[38;5;241;43m.\u001b[39;49m\u001b[43mrand\u001b[49m\u001b[43m(\u001b[49m\u001b[38;5;241;43m8\u001b[39;49m\u001b[43m)\u001b[49m\u001b[43m)\u001b[49m\n",
      "\u001b[1;31mValueError\u001b[0m: operands could not be broadcast together with shapes (14,) (8,) (14,) "
     ]
    }
   ],
   "source": [
    "np.random.seed(0)\n",
    "X = np.sort(5 * np.random.rand(40, 1), axis=0)\n",
    "T = np.linspace(0, 5, 500)[:, np.newaxis]\n",
    "y = np.sin(X).ravel()\n",
    "\n",
    "y[::3] += 1 * (0.5 - np.random.rand(8))"
   ]
  },
  {
   "cell_type": "code",
   "execution_count": null,
   "id": "86da2a9c-4d85-46d0-8719-9f6b9404aeb2",
   "metadata": {
    "scrolled": true
   },
   "outputs": [],
   "source": [
    "n_neighbors = 5\n",
    "\n",
    "for i, weights in enumerate([\"uniform\", \"distance\"]):\n",
    "    knn = neighbors.KNeighborsRegressor(n_neighbors, weights=weights)\n",
    "    prueba = knn.fit(X, y)\n",
    "    y_ = prueba.predict(T)\n",
    "    mean_error_500 = mean_squared_error(np.sin(T).ravel(), y_)\n",
    "    print(\"Error_500:\", mean_error_500)\n",
    "\n",
    "    mean_error_40 = mean_squared_error(y, y_[:40])\n",
    "    print(\"Error_40:\", mean_error_40)\n",
    "    \n",
    "    plt.subplot(2, 1, i + 1)\n",
    "\n",
    "    puntos_prueba = [1.5, 2.5, 3.5, 4.5, 4.65]\n",
    "    error_abs = 0\n",
    "    for punto in puntos_prueba:\n",
    "        plt.scatter(punto, np.sin(punto), color=\"red\")\n",
    "        plt.plot([-5, punto], [np.sin(punto)] * 2, color='red', linestyle='--')\n",
    "        plt.plot([punto, punto], [-5, np.sin(punto)], color='red', linestyle='--')\n",
    "        error_abs += abs(prueba.predict(np.array([punto]).reshape(-1, 1)) - np.sin(punto))\n",
    "    print(\"Error_abs:\", error_abs)\n",
    "    plt.scatter(X, y, color=\"darkorange\", label=\"data\")\n",
    "    plt.plot(T, y_, color=\"navy\", label=\"prediction\")\n",
    "    plt.axis(\"tight\")\n",
    "    plt.legend()\n",
    "    plt.title(\"KNeighborsRegressor (k = %i, weights = '%s')\" % (n_neighbors, weights))\n",
    "\n",
    "    plt.xlim(T.min(), T.max())\n",
    "    plt.ylim(min(min(y_)-0.5, min(y)-0.5), max(max(y_)+0.5, max(y)+0.5))\n",
    "\n",
    "\n",
    "plt.tight_layout()\n",
    "plt.show()\n"
   ]
  },
  {
   "cell_type": "code",
   "execution_count": null,
   "id": "6a8081fc-1471-4cb9-b8ce-f3512bf5cb53",
   "metadata": {},
   "outputs": [],
   "source": []
  }
 ],
 "metadata": {
  "kernelspec": {
   "display_name": "Python 3 (ipykernel)",
   "language": "python",
   "name": "python3"
  },
  "language_info": {
   "codemirror_mode": {
    "name": "ipython",
    "version": 3
   },
   "file_extension": ".py",
   "mimetype": "text/x-python",
   "name": "python",
   "nbconvert_exporter": "python",
   "pygments_lexer": "ipython3",
   "version": "3.12.2"
  }
 },
 "nbformat": 4,
 "nbformat_minor": 5
}
