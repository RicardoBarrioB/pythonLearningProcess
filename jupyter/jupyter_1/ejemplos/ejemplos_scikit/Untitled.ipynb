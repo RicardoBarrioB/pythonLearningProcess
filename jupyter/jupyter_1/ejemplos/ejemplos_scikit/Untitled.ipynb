{
 "cells": [
  {
   "cell_type": "code",
   "execution_count": 2,
   "id": "4a37daf3-c71c-443c-b814-744ee985c693",
   "metadata": {},
   "outputs": [
    {
     "ename": "ModuleNotFoundError",
     "evalue": "No module named 'lorenz'",
     "output_type": "error",
     "traceback": [
      "\u001b[1;31m---------------------------------------------------------------------------\u001b[0m",
      "\u001b[1;31mModuleNotFoundError\u001b[0m                       Traceback (most recent call last)",
      "Cell \u001b[1;32mIn[2], line 1\u001b[0m\n\u001b[1;32m----> 1\u001b[0m \u001b[38;5;28;01mfrom\u001b[39;00m \u001b[38;5;21;01mlorenz\u001b[39;00m \u001b[38;5;28;01mimport\u001b[39;00m solve_lorenz\n\u001b[0;32m      2\u001b[0m w\u001b[38;5;241m=\u001b[39minteractive(solve_lorenz, sigma) \n",
      "\u001b[1;31mModuleNotFoundError\u001b[0m: No module named 'lorenz'"
     ]
    }
   ],
   "source": [
    "from lorenz import solve_lorenz\n",
    "w=interactive(solve_lorenz, sigma) "
   ]
  },
  {
   "cell_type": "code",
   "execution_count": null,
   "id": "8c8ff429-e042-4c41-85d1-be8bf7794054",
   "metadata": {},
   "outputs": [],
   "source": []
  }
 ],
 "metadata": {
  "kernelspec": {
   "display_name": "Python 3 (ipykernel)",
   "language": "python",
   "name": "python3"
  },
  "language_info": {
   "codemirror_mode": {
    "name": "ipython",
    "version": 3
   },
   "file_extension": ".py",
   "mimetype": "text/x-python",
   "name": "python",
   "nbconvert_exporter": "python",
   "pygments_lexer": "ipython3",
   "version": "3.12.2"
  }
 },
 "nbformat": 4,
 "nbformat_minor": 5
}
