{
 "cells": [
  {
   "cell_type": "code",
   "execution_count": null,
   "id": "9155db06-3470-41a4-a6a4-0b7de7f7aa2e",
   "metadata": {},
   "outputs": [],
   "source": [
    "import numpy as np\n",
    "import matplotlib.pyplot as pl"
   ]
  },
  {
   "cell_type": "code",
   "execution_count": null,
   "id": "e26d921d-784d-4c82-b878-5fa4c00f3728",
   "metadata": {},
   "outputs": [],
   "source": [
    "array = np.array([1,2,3])"
   ]
  },
  {
   "cell_type": "code",
   "execution_count": null,
   "id": "3f9ba606-a429-4cc6-b58d-d0f7161b29b9",
   "metadata": {},
   "outputs": [],
   "source": [
    "matriz = np.array([[1,2,3],[4,5,6],[7,8,9]])"
   ]
  },
  {
   "cell_type": "code",
   "execution_count": null,
   "id": "73761e9c-6d92-44de-bfa9-d48c022bf8db",
   "metadata": {},
   "outputs": [],
   "source": [
    "cubo = np.array([[[1,2],[3,4]],[[5,6],[7,8]],[[9,0],[2,1]]])"
   ]
  },
  {
   "cell_type": "code",
   "execution_count": null,
   "id": "8a96b23d-d606-4243-8441-1bcc23c2f593",
   "metadata": {},
   "outputs": [],
   "source": [
    "print(array,\"\\n\")\n",
    "print(matriz, \"\\n\")\n",
    "print(cubo, \"\\n\")"
   ]
  },
  {
   "cell_type": "code",
   "execution_count": null,
   "id": "93fd5ebb-3f78-464d-95cd-20cd3a7010a9",
   "metadata": {},
   "outputs": [],
   "source": [
    "pl.imshow(matriz)"
   ]
  },
  {
   "cell_type": "code",
   "execution_count": null,
   "id": "aad185bf-df2e-4610-a5e0-ecd471b0c960",
   "metadata": {},
   "outputs": [],
   "source": [
    "np.eye(2)"
   ]
  }
 ],
 "metadata": {
  "kernelspec": {
   "display_name": "Python 3 (ipykernel)",
   "language": "python",
   "name": "python3"
  },
  "language_info": {
   "codemirror_mode": {
    "name": "ipython",
    "version": 3
   },
   "file_extension": ".py",
   "mimetype": "text/x-python",
   "name": "python",
   "nbconvert_exporter": "python",
   "pygments_lexer": "ipython3",
   "version": "3.12.2"
  }
 },
 "nbformat": 4,
 "nbformat_minor": 5
}
