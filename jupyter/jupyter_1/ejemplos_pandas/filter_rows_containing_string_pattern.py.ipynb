{
 "cells": [
  {
   "cell_type": "code",
   "execution_count": 1,
   "id": "0de3efbc-2e7b-4cb7-9123-ac106c165a01",
   "metadata": {},
   "outputs": [
    {
     "name": "stdout",
     "output_type": "stream",
     "text": [
      "           language  example_complete\n",
      "date                                 \n",
      "2017-01-01     None                 1\n",
      "2017-01-01        r                 2\n",
      "2017-01-02   python                 3\n",
      "2017-01-02        r                 4\n",
      "2017-01-03   python                 5\n",
      "2017-01-03        r                 6\n",
      "           language  example_complete\n",
      "date                                 \n",
      "2017-01-01        r                 2\n",
      "2017-01-02        r                 4\n",
      "2017-01-03        r                 6\n"
     ]
    }
   ],
   "source": [
    "import pandas as pd\n",
    "from io import StringIO\n",
    "\n",
    "\"\"\"\n",
    "Ref:\n",
    "    https://stackoverflow.com/questions/27975069/how-to-filter-rows-containing-a-string-pattern-from-a-pandas-dataframe\n",
    "\"\"\"\n",
    "\n",
    "str_data = r\"\"\"date,language,example_complete\n",
    "2017-01-01,python,1\n",
    "2017-01-02,python,3\n",
    "2017-01-03,python,5\n",
    "\n",
    "2017-01-01,r,2\n",
    "2017-01-02,r,4\n",
    "2017-01-03,r,6\n",
    "\"\"\"\n",
    "df = pd.read_csv(StringIO(str_data))\n",
    "df.set_index(['date'], inplace=True)\n",
    "df.sort_index(inplace=True)\n",
    "\n",
    "# insert None\n",
    "df.iloc[0, 0] = None\n",
    "print(df)\n",
    "assert isinstance(df['language'].iloc[0], type(None))\n",
    "\n",
    "# filter\n",
    "mask = df['language'].str.contains('r', na=False)\n",
    "print(df[mask])"
   ]
  },
  {
   "cell_type": "code",
   "execution_count": null,
   "id": "559945e8-4783-4f2d-95f8-8eb9deac5604",
   "metadata": {},
   "outputs": [],
   "source": []
  }
 ],
 "metadata": {
  "kernelspec": {
   "display_name": "Python 3 (ipykernel)",
   "language": "python",
   "name": "python3"
  },
  "language_info": {
   "codemirror_mode": {
    "name": "ipython",
    "version": 3
   },
   "file_extension": ".py",
   "mimetype": "text/x-python",
   "name": "python",
   "nbconvert_exporter": "python",
   "pygments_lexer": "ipython3",
   "version": "3.12.2"
  }
 },
 "nbformat": 4,
 "nbformat_minor": 5
}
