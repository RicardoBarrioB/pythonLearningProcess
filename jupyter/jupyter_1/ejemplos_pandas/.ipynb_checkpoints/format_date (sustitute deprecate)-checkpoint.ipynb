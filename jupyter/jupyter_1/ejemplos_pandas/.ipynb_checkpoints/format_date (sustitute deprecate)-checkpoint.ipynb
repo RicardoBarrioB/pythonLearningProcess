{
 "cells": [
  {
   "cell_type": "code",
   "execution_count": 1,
   "id": "619d27e5-c096-43f7-a6b9-0b81bc1ee39e",
   "metadata": {},
   "outputs": [
    {
     "name": "stdout",
     "output_type": "stream",
     "text": [
      "0   -0.384072\n",
      "1   -1.479139\n",
      "2   -0.030221\n",
      "3    0.292757\n",
      "4    0.431989\n",
      "dtype: float64\n",
      "    A  B  C\n",
      "10  2  3  8\n",
      "3   4  7  6\n",
      "8   4  3  0\n",
      "0   5  0  3\n",
      "19  1  4  9\n",
      "10  2  3  8\n",
      "11  1  3  3\n",
      "9   3  5  0\n",
      "10  2  3  8\n",
      "6   8  1  5\n",
      "0   5  0  3\n",
      "12  3  7  0\n",
      "7   9  8  9\n",
      "14  0  4  7\n"
     ]
    }
   ],
   "source": [
    "import pandas as pd\n",
    "import numpy as np\n",
    "\n",
    "\"\"\"\n",
    "http://pandas.pydata.org/pandas-docs/stable/generated/pandas.DataFrame.sample.html\n",
    "\n",
    "\"\"\"\n",
    "\n",
    "s = pd.Series(np.random.randn(50))\n",
    "print(s.head())\n",
    "\n",
    "np.random.seed(0)\n",
    "df = pd.DataFrame(np.random.randint(0, 10, (20, 3)), columns=list('ABC'))\n",
    "df_sampled = df.sample(frac=0.7, replace=True, random_state=3)\n",
    "print(df_sampled)"
   ]
  },
  {
   "cell_type": "code",
   "execution_count": 2,
   "id": "dbaf816b-12e4-4633-872e-766fd9c015ed",
   "metadata": {},
   "outputs": [
    {
     "name": "stdout",
     "output_type": "stream",
     "text": [
      "             open  sales  store\n",
      "date                           \n",
      "2018-01-01  False  False  False\n",
      "2018-01-02   True  False  False\n",
      "2018-01-03  False   True  False\n",
      "2018-01-01  False  False  False\n",
      "2018-01-02   True  False  False\n",
      "2018-01-03  False  False  False\n",
      "2018-01-01  False  False  False\n",
      "2018-01-02  False  False  False\n",
      "2018-01-03  False  False  False\n",
      "open     2\n",
      "sales    1\n",
      "store    0\n",
      "dtype: int64\n"
     ]
    }
   ],
   "source": [
    "import pandas as pd\n",
    "from io import StringIO\n",
    "from datetime import datetime\n",
    "\n",
    "str_data = r\"\"\"\n",
    "date,open,sales,store\n",
    "2018-01-01,N,23,1\n",
    "2018-01-02,,44,1\n",
    "2018-01-03,Y,,1\n",
    "\n",
    "2018-01-01,N,33,2\n",
    "2018-01-02,,150,2\n",
    "2018-01-03,Y,233,2\n",
    "\n",
    "2018-01-01,N,3,3\n",
    "2018-01-02,Y,14,3\n",
    "2018-01-03,Y,125,3\n",
    "\"\"\"\n",
    "df = pd.read_csv(\n",
    "    StringIO(str_data),\n",
    "    parse_dates=True,\n",
    "    index_col='date',\n",
    "    date_format=lambda x: datetime.strptime(x, '%Y-%m-%d')\n",
    ")\n",
    "\n",
    "print(df.isnull())\n",
    "print(df.isnull().sum())"
   ]
  },
  {
   "cell_type": "code",
   "execution_count": null,
   "id": "9fd6d05f-671f-4eda-a6b9-c0fd1264270e",
   "metadata": {},
   "outputs": [],
   "source": []
  }
 ],
 "metadata": {
  "kernelspec": {
   "display_name": "Python 3 (ipykernel)",
   "language": "python",
   "name": "python3"
  },
  "language_info": {
   "codemirror_mode": {
    "name": "ipython",
    "version": 3
   },
   "file_extension": ".py",
   "mimetype": "text/x-python",
   "name": "python",
   "nbconvert_exporter": "python",
   "pygments_lexer": "ipython3",
   "version": "3.12.2"
  }
 },
 "nbformat": 4,
 "nbformat_minor": 5
}
